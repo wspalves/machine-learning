{
  "nbformat": 4,
  "nbformat_minor": 0,
  "metadata": {
    "colab": {
      "provenance": [],
      "authorship_tag": "ABX9TyOqTflgwraZO1YGvKsTfLcs",
      "include_colab_link": true
    },
    "kernelspec": {
      "name": "python3",
      "display_name": "Python 3"
    },
    "language_info": {
      "name": "python"
    }
  },
  "cells": [
    {
      "cell_type": "markdown",
      "metadata": {
        "id": "view-in-github",
        "colab_type": "text"
      },
      "source": [
        "<a href=\"https://colab.research.google.com/github/wspalves/machine-learning/blob/main/coleta_descricao.ipynb\" target=\"_parent\"><img src=\"https://colab.research.google.com/assets/colab-badge.svg\" alt=\"Open In Colab\"/></a>"
      ]
    },
    {
      "cell_type": "code",
      "source": [
        "import pandas as pd"
      ],
      "metadata": {
        "id": "tw71UXW01vCu"
      },
      "execution_count": 3,
      "outputs": []
    },
    {
      "cell_type": "markdown",
      "source": [
        "# URL da base de dados Iris no UCI Machine Learning Repository"
      ],
      "metadata": {
        "id": "YU4QnEwM16lf"
      }
    },
    {
      "cell_type": "code",
      "source": [
        "url = 'https://archive.ics.uci.edu/ml/machine-learning-databases/iris/iris.data'"
      ],
      "metadata": {
        "id": "te2a92zU137Q"
      },
      "execution_count": null,
      "outputs": []
    },
    {
      "cell_type": "markdown",
      "source": [
        "# Carregar a base de dados com nomes de colunas"
      ],
      "metadata": {
        "id": "BdfxFyVf2Jgx"
      }
    },
    {
      "cell_type": "code",
      "source": [
        "colunas = ['SepalLength', 'SepalWidth', 'PetalLength', 'PetalWidth', 'Class']\n",
        "df = pd.read_csv(url, header=None, names=colunas)"
      ],
      "metadata": {
        "id": "TNs6hlM62OeE"
      },
      "execution_count": null,
      "outputs": []
    },
    {
      "cell_type": "markdown",
      "source": [
        "#Exibir as primeiras linhas da base de dados"
      ],
      "metadata": {
        "id": "Alv4Iew42kqM"
      }
    },
    {
      "cell_type": "code",
      "source": [
        "print(df.head())"
      ],
      "metadata": {
        "colab": {
          "base_uri": "https://localhost:8080/"
        },
        "id": "Sme7znkG2mzz",
        "outputId": "17704475-da89-43cb-8945-1ad67a83519a"
      },
      "execution_count": null,
      "outputs": [
        {
          "output_type": "stream",
          "name": "stdout",
          "text": [
            "   SepalLength  SepalWidth  PetalLength  PetalWidth        Class\n",
            "0          5.1         3.5          1.4         0.2  Iris-setosa\n",
            "1          4.9         3.0          1.4         0.2  Iris-setosa\n",
            "2          4.7         3.2          1.3         0.2  Iris-setosa\n",
            "3          4.6         3.1          1.5         0.2  Iris-setosa\n",
            "4          5.0         3.6          1.4         0.2  Iris-setosa\n"
          ]
        }
      ]
    },
    {
      "cell_type": "code",
      "source": [
        "import requests"
      ],
      "metadata": {
        "id": "ooeG2eyH326_"
      },
      "execution_count": null,
      "outputs": []
    },
    {
      "cell_type": "markdown",
      "source": [
        "# URL da API pública que retorna um conjunto de dados em formato JSON"
      ],
      "metadata": {
        "id": "G_-caK5O36Jj"
      }
    },
    {
      "cell_type": "code",
      "source": [
        "url = 'https://jsonplaceholder.typicode.com/posts'"
      ],
      "metadata": {
        "id": "2LJF9-153_R0"
      },
      "execution_count": null,
      "outputs": []
    },
    {
      "cell_type": "markdown",
      "source": [],
      "metadata": {
        "id": "Y_FhR_qm51lx"
      }
    },
    {
      "cell_type": "markdown",
      "source": [
        "# Fazer a solicitação GET à API"
      ],
      "metadata": {
        "id": "hIaITs_44E-9"
      }
    },
    {
      "cell_type": "code",
      "source": [
        "response = requests.get(url)\n",
        "\n",
        "if response.status_code == 200:\n",
        "  data = response.json()\n",
        "  df = pd.DataFrame(data)\n",
        "  print(df.head())\n",
        "else:\n",
        "  print('Erro ao acessar a API:', response.status_code)"
      ],
      "metadata": {
        "colab": {
          "base_uri": "https://localhost:8080/"
        },
        "id": "sVYUcVE84Iv6",
        "outputId": "7479b437-c609-4cad-d0d4-bf5ead1f226a"
      },
      "execution_count": null,
      "outputs": [
        {
          "output_type": "stream",
          "name": "stdout",
          "text": [
            "   userId  id                                              title  \\\n",
            "0       1   1  sunt aut facere repellat provident occaecati e...   \n",
            "1       1   2                                       qui est esse   \n",
            "2       1   3  ea molestias quasi exercitationem repellat qui...   \n",
            "3       1   4                               eum et est occaecati   \n",
            "4       1   5                                 nesciunt quas odio   \n",
            "\n",
            "                                                body  \n",
            "0  quia et suscipit\\nsuscipit recusandae consequu...  \n",
            "1  est rerum tempore vitae\\nsequi sint nihil repr...  \n",
            "2  et iusto sed quo iure\\nvoluptatem occaecati om...  \n",
            "3  ullam et saepe reiciendis voluptatem adipisci\\...  \n",
            "4  repudiandae veniam quaerat sunt sed\\nalias aut...  \n"
          ]
        }
      ]
    },
    {
      "cell_type": "markdown",
      "source": [
        "# Descrição do Dataset"
      ],
      "metadata": {
        "id": "f2yoibyI5K6l"
      }
    },
    {
      "cell_type": "markdown",
      "source": [
        "# URL da base de dados Iris no UCI Machine Learning Repository"
      ],
      "metadata": {
        "id": "OdOJ_sa75uHx"
      }
    },
    {
      "cell_type": "code",
      "source": [
        "url = 'https://archive.ics.uci.edu/ml/machine-learning-databases/iris/iris.data'"
      ],
      "metadata": {
        "id": "E_HrF5kf5uHx"
      },
      "execution_count": 1,
      "outputs": []
    },
    {
      "cell_type": "markdown",
      "source": [
        "# Carregar a base de dados com nomes de colunas"
      ],
      "metadata": {
        "id": "jHbFGjYL5uHx"
      }
    },
    {
      "cell_type": "code",
      "source": [
        "colunas = ['SepalLength', 'SepalWidth', 'PetalLength', 'PetalWidth', 'Class']\n",
        "df = pd.read_csv(url, header=None, names=colunas)"
      ],
      "metadata": {
        "id": "wwbPdwaZ5uHx"
      },
      "execution_count": 4,
      "outputs": []
    },
    {
      "cell_type": "code",
      "source": [
        "print(df.info())"
      ],
      "metadata": {
        "id": "ek8yljLl52bn",
        "outputId": "3014ff66-c96c-4643-b40f-618b3fe68d2a",
        "colab": {
          "base_uri": "https://localhost:8080/"
        }
      },
      "execution_count": 6,
      "outputs": [
        {
          "output_type": "stream",
          "name": "stdout",
          "text": [
            "<class 'pandas.core.frame.DataFrame'>\n",
            "RangeIndex: 150 entries, 0 to 149\n",
            "Data columns (total 5 columns):\n",
            " #   Column       Non-Null Count  Dtype  \n",
            "---  ------       --------------  -----  \n",
            " 0   SepalLength  150 non-null    float64\n",
            " 1   SepalWidth   150 non-null    float64\n",
            " 2   PetalLength  150 non-null    float64\n",
            " 3   PetalWidth   150 non-null    float64\n",
            " 4   Class        150 non-null    object \n",
            "dtypes: float64(4), object(1)\n",
            "memory usage: 6.0+ KB\n",
            "None\n"
          ]
        }
      ]
    },
    {
      "cell_type": "code",
      "source": [
        "print(df.describe())"
      ],
      "metadata": {
        "id": "ykL7bWuB6Tis",
        "outputId": "02411f82-3ce3-4e7e-80f0-15ba9d0f27e6",
        "colab": {
          "base_uri": "https://localhost:8080/"
        }
      },
      "execution_count": 7,
      "outputs": [
        {
          "output_type": "stream",
          "name": "stdout",
          "text": [
            "       SepalLength  SepalWidth  PetalLength  PetalWidth\n",
            "count   150.000000  150.000000   150.000000  150.000000\n",
            "mean      5.843333    3.054000     3.758667    1.198667\n",
            "std       0.828066    0.433594     1.764420    0.763161\n",
            "min       4.300000    2.000000     1.000000    0.100000\n",
            "25%       5.100000    2.800000     1.600000    0.300000\n",
            "50%       5.800000    3.000000     4.350000    1.300000\n",
            "75%       6.400000    3.300000     5.100000    1.800000\n",
            "max       7.900000    4.400000     6.900000    2.500000\n"
          ]
        }
      ]
    },
    {
      "cell_type": "markdown",
      "source": [
        "# Exploração"
      ],
      "metadata": {
        "id": "GLb8OQ1E6lZR"
      }
    },
    {
      "cell_type": "code",
      "source": [
        "import matplotlib.pyplot as plt\n",
        "\n",
        "df['SepalLength'].hist(bins=20)\n",
        "plt.title('Distribuição da coluna de interesse')\n",
        "plt.xlabel('Valores')\n",
        "plt.ylabel('Frequência')\n",
        "plt.show()"
      ],
      "metadata": {
        "id": "3TEBU_RW6meY",
        "outputId": "b08b45c4-f62d-449b-9016-d2e7d1b4f599",
        "colab": {
          "base_uri": "https://localhost:8080/",
          "height": 472
        }
      },
      "execution_count": 8,
      "outputs": [
        {
          "output_type": "display_data",
          "data": {
            "text/plain": [
              "<Figure size 640x480 with 1 Axes>"
            ],
            "image/png": "[encoded data removed]"
          },
          "metadata": {}
        }
      ]
    },
    {
      "cell_type": "code",
      "source": [
        "plt.scatter(df['SepalLength'], df['Class'])\n",
        "plt.title('Gráfico de Dispersão')\n",
        "plt.xlabel('Coluna X')\n",
        "plt.ylabel('Coluna Y')\n",
        "plt.show()"
      ],
      "metadata": {
        "id": "ktUVosnF77uT",
        "outputId": "36a088c3-181a-4720-d304-9fb74d581f9e",
        "colab": {
          "base_uri": "https://localhost:8080/",
          "height": 472
        }
      },
      "execution_count": 11,
      "outputs": [
        {
          "output_type": "display_data",
          "data": {
            "text/plain": [
              "<Figure size 640x480 with 1 Axes>"
            ],
            "image/png": "[encoded data removed]"
          },
          "metadata": {}
        }
      ]
    },
    {
      "cell_type": "markdown",
      "source": [
        "# Verificação de dados"
      ],
      "metadata": {
        "id": "Q-9BEF0E9dlx"
      }
    },
    {
      "cell_type": "code",
      "source": [
        "import pandas as pd\n",
        "\n",
        "# URL da base de dados Heart Disease do UCI Machine Learning Repository\n",
        "url = 'https://archive.ics.uci.edu/ml/machine-learning-databases/heart-disease/processed.cleveland.data'\n",
        "\n",
        "# Carregar a base de dados com nomes de colunas\n",
        "colunas = ['age', 'sex', 'cp', 'trestbps', 'chol', 'fbs', 'restecg', 'thalach', 'exang', 'oldpeak', 'slope', 'ca', 'thal', 'num']\n",
        "df = pd.read_csv(url, header=None, names=colunas)\n",
        "\n",
        "# Exibir as primeiras linhas da base de dados\n",
        "print(df.head())"
      ],
      "metadata": {
        "id": "EyEWavAZ9fmm",
        "outputId": "b9e5369a-0f97-40e1-9565-2afc1d1977a4",
        "colab": {
          "base_uri": "https://localhost:8080/"
        }
      },
      "execution_count": 12,
      "outputs": [
        {
          "output_type": "stream",
          "name": "stdout",
          "text": [
            "    age  sex   cp  trestbps   chol  fbs  restecg  thalach  exang  oldpeak  \\\n",
            "0  63.0  1.0  1.0     145.0  233.0  1.0      2.0    150.0    0.0      2.3   \n",
            "1  67.0  1.0  4.0     160.0  286.0  0.0      2.0    108.0    1.0      1.5   \n",
            "2  67.0  1.0  4.0     120.0  229.0  0.0      2.0    129.0    1.0      2.6   \n",
            "3  37.0  1.0  3.0     130.0  250.0  0.0      0.0    187.0    0.0      3.5   \n",
            "4  41.0  0.0  2.0     130.0  204.0  0.0      2.0    172.0    0.0      1.4   \n",
            "\n",
            "   slope   ca thal  num  \n",
            "0    3.0  0.0  6.0    0  \n",
            "1    2.0  3.0  3.0    2  \n",
            "2    2.0  2.0  7.0    1  \n",
            "3    3.0  0.0  3.0    0  \n",
            "4    1.0  0.0  3.0    0  \n"
          ]
        }
      ]
    },
    {
      "cell_type": "code",
      "source": [
        "# Verificar em quais colunas existem valores com '?'\n",
        "colunas_com_interrogacao = df.columns[(df == '?').any()].tolist()\n",
        "\n",
        "# Exibir colunas que contêm o valor '?'\n",
        "print(\"Colunas que contêm '?':\", colunas_com_interrogacao)"
      ],
      "metadata": {
        "id": "e1bApMEdBLF6",
        "outputId": "b985d9e5-12f5-46d4-d003-398ecc8e43ca",
        "colab": {
          "base_uri": "https://localhost:8080/"
        }
      },
      "execution_count": 13,
      "outputs": [
        {
          "output_type": "stream",
          "name": "stdout",
          "text": [
            "Colunas que contêm '?': ['ca', 'thal']\n"
          ]
        }
      ]
    },
    {
      "cell_type": "code",
      "source": [
        "import numpy as np\n",
        "\n",
        "# Substituir valores '?' por NaN\n",
        "df.replace('?', np.nan, inplace=True)\n",
        "\n",
        "# Converter colunas numéricas para o tipo correto\n",
        "df = df.apply(pd.to_numeric, errors='ignore')"
      ],
      "metadata": {
        "id": "Ao7qNfT4BpZD",
        "outputId": "9cecd02b-0742-4a22-f2ac-bbe329b70eff",
        "colab": {
          "base_uri": "https://localhost:8080/"
        }
      },
      "execution_count": 14,
      "outputs": [
        {
          "output_type": "stream",
          "name": "stderr",
          "text": [
            "<ipython-input-14-92213ebd8ba6>:7: FutureWarning: errors='ignore' is deprecated and will raise in a future version. Use to_numeric without passing `errors` and catch exceptions explicitly instead\n",
            "  df = df.apply(pd.to_numeric, errors='ignore')\n"
          ]
        }
      ]
    },
    {
      "cell_type": "code",
      "source": [
        "print(df.isnull().sum())"
      ],
      "metadata": {
        "id": "ZH8r0Y9dC8NS",
        "outputId": "e8c6af6e-95ea-4c70-f268-c6f78bd802b2",
        "colab": {
          "base_uri": "https://localhost:8080/"
        }
      },
      "execution_count": 15,
      "outputs": [
        {
          "output_type": "stream",
          "name": "stdout",
          "text": [
            "age         0\n",
            "sex         0\n",
            "cp          0\n",
            "trestbps    0\n",
            "chol        0\n",
            "fbs         0\n",
            "restecg     0\n",
            "thalach     0\n",
            "exang       0\n",
            "oldpeak     0\n",
            "slope       0\n",
            "ca          4\n",
            "thal        2\n",
            "num         0\n",
            "dtype: int64\n"
          ]
        }
      ]
    },
    {
      "cell_type": "code",
      "source": [
        "# Verificar a quantidade de linhas duplicadas\n",
        "print('Linhas duplicadas:', df.duplicated().sum())"
      ],
      "metadata": {
        "id": "mS1Ht99pDMhB",
        "outputId": "42f87bbb-3b15-4889-ad5d-be550b8ec492",
        "colab": {
          "base_uri": "https://localhost:8080/"
        }
      },
      "execution_count": 19,
      "outputs": [
        {
          "output_type": "stream",
          "name": "stdout",
          "text": [
            "Linhas duplicadas: 1\n"
          ]
        }
      ]
    },
    {
      "cell_type": "code",
      "source": [
        "linha_duplicada = df.iloc[0].copy()"
      ],
      "metadata": {
        "id": "ohLsJF8QDa8N"
      },
      "execution_count": 17,
      "outputs": []
    },
    {
      "cell_type": "code",
      "source": [
        "df = pd.concat([df, pd.DataFrame([linha_duplicada])], ignore_index=True)\n",
        "df.info()"
      ],
      "metadata": {
        "id": "yEKsABcQDkPE",
        "outputId": "7346e250-9aae-4c00-d688-a0b5425d4c70",
        "colab": {
          "base_uri": "https://localhost:8080/"
        }
      },
      "execution_count": 18,
      "outputs": [
        {
          "output_type": "stream",
          "name": "stdout",
          "text": [
            "<class 'pandas.core.frame.DataFrame'>\n",
            "RangeIndex: 304 entries, 0 to 303\n",
            "Data columns (total 14 columns):\n",
            " #   Column    Non-Null Count  Dtype  \n",
            "---  ------    --------------  -----  \n",
            " 0   age       304 non-null    float64\n",
            " 1   sex       304 non-null    float64\n",
            " 2   cp        304 non-null    float64\n",
            " 3   trestbps  304 non-null    float64\n",
            " 4   chol      304 non-null    float64\n",
            " 5   fbs       304 non-null    float64\n",
            " 6   restecg   304 non-null    float64\n",
            " 7   thalach   304 non-null    float64\n",
            " 8   exang     304 non-null    float64\n",
            " 9   oldpeak   304 non-null    float64\n",
            " 10  slope     304 non-null    float64\n",
            " 11  ca        300 non-null    float64\n",
            " 12  thal      302 non-null    float64\n",
            " 13  num       304 non-null    float64\n",
            "dtypes: float64(14)\n",
            "memory usage: 33.4 KB\n"
          ]
        }
      ]
    },
    {
      "cell_type": "code",
      "source": [
        "# Verificar a quantidade de linhas duplicadas\n",
        "print('Linhas duplicadas:', df.duplicated().sum())"
      ],
      "metadata": {
        "id": "MlHlfFM_D-qR",
        "outputId": "69c0fb24-50d2-40e8-b9b9-2919a33d2a94",
        "colab": {
          "base_uri": "https://localhost:8080/"
        }
      },
      "execution_count": 22,
      "outputs": [
        {
          "output_type": "stream",
          "name": "stdout",
          "text": [
            "Linhas duplicadas: 0\n"
          ]
        }
      ]
    },
    {
      "cell_type": "code",
      "source": [
        "df.drop_duplicates(inplace=True)\n",
        "df.info()"
      ],
      "metadata": {
        "id": "u_yfal-EEBY8",
        "outputId": "cca350df-5d06-461c-d570-75676186eaa8",
        "colab": {
          "base_uri": "https://localhost:8080/"
        }
      },
      "execution_count": 23,
      "outputs": [
        {
          "output_type": "stream",
          "name": "stdout",
          "text": [
            "<class 'pandas.core.frame.DataFrame'>\n",
            "Index: 303 entries, 0 to 302\n",
            "Data columns (total 14 columns):\n",
            " #   Column    Non-Null Count  Dtype  \n",
            "---  ------    --------------  -----  \n",
            " 0   age       303 non-null    float64\n",
            " 1   sex       303 non-null    float64\n",
            " 2   cp        303 non-null    float64\n",
            " 3   trestbps  303 non-null    float64\n",
            " 4   chol      303 non-null    float64\n",
            " 5   fbs       303 non-null    float64\n",
            " 6   restecg   303 non-null    float64\n",
            " 7   thalach   303 non-null    float64\n",
            " 8   exang     303 non-null    float64\n",
            " 9   oldpeak   303 non-null    float64\n",
            " 10  slope     303 non-null    float64\n",
            " 11  ca        299 non-null    float64\n",
            " 12  thal      301 non-null    float64\n",
            " 13  num       303 non-null    float64\n",
            "dtypes: float64(14)\n",
            "memory usage: 35.5 KB\n"
          ]
        }
      ]
    },
    {
      "cell_type": "code",
      "source": [
        "plt.scatter(df['age'], df['thal'], alpha=0.6, c='blue', edgecolors='w')\n",
        "plt.title('Gráfico de Dispersão: Age vs. Thal')\n",
        "plt.xlabel('Age')\n",
        "plt.ylabel('Thal')\n",
        "plt.grid(True)\n",
        "plt.show()"
      ],
      "metadata": {
        "id": "tLFd5abPEVH8",
        "outputId": "7ed0ee0d-4a24-4e0a-8aae-ad05c0623f16",
        "colab": {
          "base_uri": "https://localhost:8080/",
          "height": 472
        }
      },
      "execution_count": 26,
      "outputs": [
        {
          "output_type": "display_data",
          "data": {
            "text/plain": [
              "<Figure size 640x480 with 1 Axes>"
            ],
            "image/png": "[encoded data removed]"
          },
          "metadata": {}
        }
      ]
    },
    {
      "cell_type": "code",
      "source": [
        "# Preencher valores ausentes com a média da coluna\n",
        "df['thal'].fillna(df['thal'].mean(), inplace=True)"
      ],
      "metadata": {
        "id": "D3-7OFNTE4cw",
        "outputId": "55283c92-0e6a-4c29-d8b0-fbb43e332f42",
        "colab": {
          "base_uri": "https://localhost:8080/"
        }
      },
      "execution_count": 25,
      "outputs": [
        {
          "output_type": "stream",
          "name": "stderr",
          "text": [
            "<ipython-input-25-7a7b5a749523>:2: FutureWarning: A value is trying to be set on a copy of a DataFrame or Series through chained assignment using an inplace method.\n",
            "The behavior will change in pandas 3.0. This inplace method will never work because the intermediate object on which we are setting values always behaves as a copy.\n",
            "\n",
            "For example, when doing 'df[col].method(value, inplace=True)', try using 'df.method({col: value}, inplace=True)' or df[col] = df[col].method(value) instead, to perform the operation inplace on the original object.\n",
            "\n",
            "\n",
            "  df['thal'].fillna(df['thal'].mean(), inplace=True)\n"
          ]
        }
      ]
    },
    {
      "cell_type": "code",
      "source": [
        "plt.scatter(df['age'], df['ca'], alpha=0.6, c='blue', edgecolors='w')\n",
        "plt.title('Gráfico de Dispersão: Age vs. Ca')\n",
        "plt.xlabel('Age')\n",
        "plt.ylabel('Ca')\n",
        "plt.grid(True)\n",
        "plt.show()\n"
      ],
      "metadata": {
        "id": "8ogOYQ41FIZs",
        "outputId": "e02bbfc5-4c82-4b37-868b-d4801275ab88",
        "colab": {
          "base_uri": "https://localhost:8080/",
          "height": 472
        }
      },
      "execution_count": 30,
      "outputs": [
        {
          "output_type": "display_data",
          "data": {
            "text/plain": [
              "<Figure size 640x480 with 1 Axes>"
            ],
            "image/png": "[encoded data removed]"
          },
          "metadata": {}
        }
      ]
    },
    {
      "cell_type": "code",
      "source": [
        "df['ca'].fillna(df['ca'].mean(), inplace=True)"
      ],
      "metadata": {
        "id": "Fh6ZD3aoFgJv",
        "outputId": "d22e55f3-32e2-413b-f977-fa61192cc7a0",
        "colab": {
          "base_uri": "https://localhost:8080/"
        }
      },
      "execution_count": 29,
      "outputs": [
        {
          "output_type": "stream",
          "name": "stderr",
          "text": [
            "<ipython-input-29-105ed0063f22>:1: FutureWarning: A value is trying to be set on a copy of a DataFrame or Series through chained assignment using an inplace method.\n",
            "The behavior will change in pandas 3.0. This inplace method will never work because the intermediate object on which we are setting values always behaves as a copy.\n",
            "\n",
            "For example, when doing 'df[col].method(value, inplace=True)', try using 'df.method({col: value}, inplace=True)' or df[col] = df[col].method(value) instead, to perform the operation inplace on the original object.\n",
            "\n",
            "\n",
            "  df['ca'].fillna(df['ca'].mean(), inplace=True)\n"
          ]
        }
      ]
    }
  ]
}